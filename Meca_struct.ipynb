{
 "cells": [
  {
   "cell_type": "code",
   "execution_count": 1,
   "id": "found-dubai",
   "metadata": {},
   "outputs": [],
   "source": [
    "import numpy as np\n",
    "import math\n",
    "from matplotlib import pyplot"
   ]
  },
  {
   "cell_type": "code",
   "execution_count": 51,
   "id": "julian-image",
   "metadata": {},
   "outputs": [
    {
     "name": "stdout",
     "output_type": "stream",
     "text": [
      "150000000000.0\n"
     ]
    }
   ],
   "source": [
    "rho=20\n",
    "E=150e9\n",
    "vol_ab=20\n",
    "vol_bc=15\n",
    "I_ab=0.002\n",
    "I_bc=0.0015\n",
    "M_motor=400\n",
    "m_ab=200\n",
    "L_ab=2\n",
    "L_bc=4.6\n",
    "L_total=L_ab+L_bc\n",
    "print(E)"
   ]
  },
  {
   "cell_type": "code",
   "execution_count": 52,
   "id": "constitutional-arrangement",
   "metadata": {},
   "outputs": [
    {
     "name": "stdout",
     "output_type": "stream",
     "text": [
      "[[156  44  54 -26]\n",
      " [ 44  16  26 -12]\n",
      " [ 54  26 156 -44]\n",
      " [-26 -12 -44  16]]\n"
     ]
    }
   ],
   "source": [
    "def construct_M_K(L):\n",
    "    M_origine=np.empty((4,4))\n",
    "    K_origine=np.empty((4,4))\n",
    "    M_origine=np.array([[156,22*L,54,-13*L],\n",
    "                       [22*L,4*L**2,13*L,-3*L**2],\n",
    "                       [54,13*L,156,-22*L],\n",
    "                       [-13*L,-3*L**2,-22*L,4*L**2]])\n",
    "    K_origine=np.array([[12,6*L,-12,6*L],\n",
    "                       [6*L,4*L**2,-6*L,2*L**2],\n",
    "                       [-12,-6*L,12,-6*L],\n",
    "                       [6*L,2*L**2,-6*L,4*L**2]])\n",
    "    return M_origine,K_origine\n",
    "\n",
    "M_origine_ab,K_origine_ab=construct_M_K(L_ab)\n",
    "print(M_origine_ab)"
   ]
  },
  {
   "cell_type": "code",
   "execution_count": 53,
   "id": "proof-whale",
   "metadata": {},
   "outputs": [
    {
     "name": "stdout",
     "output_type": "stream",
     "text": [
      "[[156  44  54 -26]\n",
      " [ 44  16  26 -12]\n",
      " [ 54  26 156 -44]\n",
      " [-26 -12 -44  16]]\n"
     ]
    }
   ],
   "source": [
    "###sur AB\n",
    "M_origine_ab,K_origine_ab=construct_M_K(L_ab)\n",
    "print(M_origine_ab)\n",
    "M_ab=np.zeros((4,4))\n",
    "M_ab[2][2]=M_origine_ab[2][2]+(420/m_ab)*M_motor\n",
    "M_ab[2][3]=M_origine_ab[2][3]\n",
    "M_ab[3][2]=M_origine_ab[3][2]\n",
    "M_ab[3][3]=M_origine_ab[3][3]\n",
    "\n",
    "K_ab=np.zeros((4,4))\n",
    "K_ab[2][2]=K_origine_ab[2][2]\n",
    "K_ab[2][3]=K_origine_ab[2][3]\n",
    "K_ab[3][2]=K_origine_ab[3][2]\n",
    "K_ab[3][3]=K_origine_ab[3][3]\n",
    "\n",
    "###sur BC\n",
    "M_bc,K_bc=construct_M_K(L_bc)"
   ]
  },
  {
   "cell_type": "code",
   "execution_count": 54,
   "id": "significant-twist",
   "metadata": {},
   "outputs": [
    {
     "name": "stdout",
     "output_type": "stream",
     "text": [
      "[[ 2.77389661e+07  6.37996219e+07 -2.77389661e+07  6.37996219e+07]\n",
      " [ 6.37996219e+07  1.95652174e+08 -6.37996219e+07  9.78260870e+07]\n",
      " [-2.77389661e+07 -6.37996219e+07  4.77738966e+08 -5.13799622e+08]\n",
      " [ 6.37996219e+07  9.78260870e+07 -5.13799622e+08  7.95652174e+08]]\n"
     ]
    }
   ],
   "source": [
    "####Final\n",
    "M_final=((rho*vol_ab)/420)*M_ab+((rho*vol_bc)/420)*M_bc\n",
    "K_final=((E*I_ab)/(L_ab**3))*K_ab+((E*I_bc)/(L_bc**3))*K_bc\n",
    "print(K_final)"
   ]
  },
  {
   "cell_type": "code",
   "execution_count": 55,
   "id": "recovered-album",
   "metadata": {},
   "outputs": [
    {
     "name": "stdout",
     "output_type": "stream",
     "text": [
      "[40945440.67652688  5485821.97875734    49915.46337044   172014.55051774]\n",
      "[[ 0.34399308 -0.56797999 -0.94540266 -0.77180412]\n",
      " [-0.81604543  0.78079469  0.27358931  0.1745121 ]\n",
      " [-0.02339285 -0.02361374  0.12567575 -0.53697613]\n",
      " [-0.46388725 -0.25923111  0.12477299 -0.29243899]]\n",
      "[[-0.56797999]\n",
      " [ 0.78079469]\n",
      " [-0.02361374]\n",
      " [-0.25923111]]\n"
     ]
    },
    {
     "data": {
      "image/png": "[encoded data removed]",
      "text/plain": [
       "<Figure size 432x288 with 1 Axes>"
      ]
     },
     "metadata": {
      "needs_background": "light"
     },
     "output_type": "display_data"
    }
   ],
   "source": [
    "val_propre,vecteur_propre=np.linalg.eig(np.linalg.inv(M_final).dot(K_final))\n",
    "VP=np.sort(np.diag(vecteur_propre))\n",
    "omega=np.sqrt(VP[3])\n",
    "k=np.where(np.diag(vecteur_propre)==VP[3])\n",
    "U=vecteur_propre[:,k[0]]\n",
    "l=10/4\n",
    "R=np.arange(0,10,l)\n",
    "pyplot.plot(R,U)\n",
    "print(val_propre)\n",
    "print(vecteur_propre)\n",
    "print(U)"
   ]
  },
  {
   "cell_type": "markdown",
   "id": "charged-pleasure",
   "metadata": {},
   "source": [
    "## "
   ]
  },
  {
   "cell_type": "code",
   "execution_count": 60,
   "id": "manufactured-sacrifice",
   "metadata": {},
   "outputs": [
    {
     "data": {
      "text/plain": [
       "[<matplotlib.lines.Line2D at 0x145dc457400>]"
      ]
     },
     "execution_count": 60,
     "metadata": {},
     "output_type": "execute_result"
    },
    {
     "data": {
      "image/png": "[encoded data removed]",
      "text/plain": [
       "<Figure size 432x288 with 1 Axes>"
      ]
     },
     "metadata": {
      "needs_background": "light"
     },
     "output_type": "display_data"
    }
   ],
   "source": [
    "###Mode 1\n",
    "s=np.sum(np.abs(vecteur_propre),axis=0)\n",
    "A1=1\n",
    "phi1=0\n",
    "L=L_total\n",
    "x=np.linspace(0,6.6)\n",
    "func_phi1=1-(3*(x**2)/(L**2))+(2*(x**3)/(L**3))\n",
    "func_phi2=x-(2*(x**2)/L)+((x**3)/(L**2))\n",
    "func_phi3=(3*(x**2)/(L**2))-(2*(x**3)/(L**3))\n",
    "func_phi4=((-x**2)/L)+((x**3)/(L**2))\n",
    "t=1\n",
    "v=(func_phi1*vecteur_propre[0][0]+func_phi2*vecteur_propre[0][1]+func_phi3*vecteur_propre[0][2]+func_phi4*vecteur_propre[0][3])*A1*math.sin((val_propre[0]*t)+phi1)\n",
    "pyplot.plot(x,v)"
   ]
  },
  {
   "cell_type": "code",
   "execution_count": 61,
   "id": "accredited-division",
   "metadata": {},
   "outputs": [
    {
     "name": "stdout",
     "output_type": "stream",
     "text": [
      "[[ 0.34399308 -0.56797999 -0.94540266 -0.77180412]\n",
      " [-0.81604543  0.78079469  0.27358931  0.1745121 ]\n",
      " [-0.02339285 -0.02361374  0.12567575 -0.53697613]\n",
      " [-0.46388725 -0.25923111  0.12477299 -0.29243899]]\n",
      "[-0.81604543  0.78079469  0.27358931  0.1745121 ]\n",
      "0.7807946924500524\n"
     ]
    },
    {
     "data": {
      "text/plain": [
       "[<matplotlib.lines.Line2D at 0x145dc4a9a90>]"
      ]
     },
     "execution_count": 61,
     "metadata": {},
     "output_type": "execute_result"
    },
    {
     "data": {
      "image/png": "[encoded data removed]",
      "text/plain": [
       "<Figure size 432x288 with 1 Axes>"
      ]
     },
     "metadata": {
      "needs_background": "light"
     },
     "output_type": "display_data"
    }
   ],
   "source": [
    "print(vecteur_propre)\n",
    "print(vecteur_propre[1])\n",
    "print(vecteur_propre[1][1])\n",
    "v=(func_phi1*vecteur_propre[1][0]+func_phi2*vecteur_propre[1][1]+func_phi3*vecteur_propre[1][2]+func_phi4*vecteur_propre[1][3])*A1*math.sin((val_propre[1]*t)+phi1)\n",
    "pyplot.plot(x,v)"
   ]
  },
  {
   "cell_type": "code",
   "execution_count": 62,
   "id": "mighty-peter",
   "metadata": {},
   "outputs": [
    {
     "data": {
      "text/plain": [
       "[<matplotlib.lines.Line2D at 0x145dc4fc7c0>]"
      ]
     },
     "execution_count": 62,
     "metadata": {},
     "output_type": "execute_result"
    },
    {
     "data": {
      "image/png": "[encoded data removed]",
      "text/plain": [
       "<Figure size 432x288 with 1 Axes>"
      ]
     },
     "metadata": {
      "needs_background": "light"
     },
     "output_type": "display_data"
    }
   ],
   "source": [
    "v=(func_phi1*vecteur_propre[2][0]+func_phi2*vecteur_propre[2][1]+func_phi3*vecteur_propre[2][2]+func_phi4*vecteur_propre[2][3])*A1*math.sin(val_propre[2]+phi1)\n",
    "pyplot.plot(x,v)"
   ]
  },
  {
   "cell_type": "code",
   "execution_count": 63,
   "id": "chief-watershed",
   "metadata": {},
   "outputs": [
    {
     "data": {
      "text/plain": [
       "[<matplotlib.lines.Line2D at 0x145dc556910>]"
      ]
     },
     "execution_count": 63,
     "metadata": {},
     "output_type": "execute_result"
    },
    {
     "data": {
      "image/png": "[encoded data removed]",
      "text/plain": [
       "<Figure size 432x288 with 1 Axes>"
      ]
     },
     "metadata": {
      "needs_background": "light"
     },
     "output_type": "display_data"
    }
   ],
   "source": [
    "v=(func_phi1*vecteur_propre[3][0]+func_phi2*vecteur_propre[3][1]+func_phi3*vecteur_propre[3][2]+func_phi4*vecteur_propre[3][3])*A1*math.sin(val_propre[3]+phi1)\n",
    "pyplot.plot(x,v)"
   ]
  },
  {
   "cell_type": "code",
   "execution_count": null,
   "id": "complete-rochester",
   "metadata": {},
   "outputs": [],
   "source": []
  }
 ],
 "metadata": {
  "kernelspec": {
   "display_name": "Python 3",
   "language": "python",
   "name": "python3"
  },
  "language_info": {
   "codemirror_mode": {
    "name": "ipython",
    "version": 3
   },
   "file_extension": ".py",
   "mimetype": "text/x-python",
   "name": "python",
   "nbconvert_exporter": "python",
   "pygments_lexer": "ipython3",
   "version": "3.8.6"
  }
 },
 "nbformat": 4,
 "nbformat_minor": 5
}
